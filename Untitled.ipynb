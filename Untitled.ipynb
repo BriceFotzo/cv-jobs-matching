{
 "cells": [
  {
   "cell_type": "code",
   "execution_count": 27,
   "metadata": {},
   "outputs": [
    {
     "name": "stdout",
     "output_type": "stream",
     "text": [
      "https://www.linkedin.com/uas/oauth2/authorization?response_type=code&client_id=789e5qxvk48oza&scope=r_liteprofile%20r_emailaddress%20w_member_social&state=62f9711bbcfca9a9f91b3a57ea3b1416&redirect_uri=http%3A//localhost%3A8000\n"
     ]
    }
   ],
   "source": [
    "from linkedin_v2 import linkedin\n",
    "\n",
    "\n",
    "API_KEY = '789e5qxvk48oza'\n",
    "API_SECRET = '3YwvvQl7n7GHP4yj'\n",
    "RETURN_URL = 'http://localhost:8000'\n",
    "\n",
    "authentication = linkedin.LinkedInAuthentication(API_KEY, API_SECRET, RETURN_URL, \n",
    "                                                 permissions=['r_liteprofile',\n",
    "                                     'r_emailaddress',\n",
    "                                    'w_member_social'])\n",
    "# Optionally one can send custom \"state\" value that will be returned from OAuth server\n",
    "# It can be used to track your user state or something else (it's up to you)\n",
    "# Be aware that this value is sent to OAuth server AS IS - make sure to encode or hash it\n",
    "#authorization.state = 'your_encoded_message'\n",
    "print (authentication.authorization_url)  # open this url on your browser\n",
    "application = linkedin.LinkedInApplication(authentication)"
   ]
  },
  {
   "cell_type": "code",
   "execution_count": null,
   "metadata": {},
   "outputs": [],
   "source": [
    "Run the previous, Then copy the code and paste some where"
   ]
  },
  {
   "cell_type": "code",
   "execution_count": null,
   "metadata": {},
   "outputs": [],
   "source": [
    "CODE"
   ]
  },
  {
   "cell_type": "code",
   "execution_count": null,
   "metadata": {},
   "outputs": [],
   "source": [
    "AQT1wDQYP_VDxb1gJi23PYMmBMAmXhebfJFdQNTABgLWk6c8K89hHw5BmjFsvSDwG1FoTBqbYPllOD9CwyIo8PEfdL19mnJkpDoVDQW5ClVtXQlA00ui6OP224HENnFdY0cnmL0LpZvZimNdkQ2sT8rEYbEcZXZIsdJO9Nu3yfdRi0p9CemQuQaqhYjmnKQzb4DOy9pGz3YBEq1bAAE"
   ]
  },
  {
   "cell_type": "code",
   "execution_count": null,
   "metadata": {},
   "outputs": [],
   "source": [
    "Take the code and put it into the next cell"
   ]
  },
  {
   "cell_type": "code",
   "execution_count": 28,
   "metadata": {},
   "outputs": [
    {
     "data": {
      "text/plain": [
       "AccessToken(access_token='AQUFPSdsWvP-wvxmjdsBweQ4hqGgcA9wX7XLYmPDZejqA_9WQL5xGiJZZ2j3Nefs9v1jaNqan8mzjWLyW5QQs4nJRVm4n_L5EBUQnP8Y24yKFF1f3HxMevJZqggUAdhQpWdW-r3hx4ieBAz_M8brm3FDAmRJFK34XgfNZm7s7AIZlTMBt5D8MRzuFVJ5IB41SNKwK4OeMYfCISyNllC8_kHnrANlmIXLHmbwc-Zy6gfbZnYB7okuEs617_7f3zHr7vUHoVEgKub431B8RPsvPxkaUyLsHvyPdL2HjzByREbkKywEmUGsgd9wF8wK4639cMHibaVfyMRkSydwtmrQPAn5n4ozqQ', expires_in=5183999)"
      ]
     },
     "execution_count": 28,
     "metadata": {},
     "output_type": "execute_result"
    }
   ],
   "source": [
    "authentication.authorization_code = 'AQT1wDQYP_VDxb1gJi23PYMmBMAmXhebfJFdQNTABgLWk6c8K89hHw5BmjFsvSDwG1FoTBqbYPllOD9CwyIo8PEfdL19mnJkpDoVDQW5ClVtXQlA00ui6OP224HENnFdY0cnmL0LpZvZimNdkQ2sT8rEYbEcZXZIsdJO9Nu3yfdRi0p9CemQuQaqhYjmnKQzb4DOy9pGz3YBEq1bAAE'\n",
    "authentication.get_access_token()"
   ]
  },
  {
   "cell_type": "code",
   "execution_count": 29,
   "metadata": {},
   "outputs": [],
   "source": [
    "access_token='AQUFPSdsWvP-wvxmjdsBweQ4hqGgcA9wX7XLYmPDZejqA_9WQL5xGiJZZ2j3Nefs9v1jaNqan8mzjWLyW5QQs4nJRVm4n_L5EBUQnP8Y24yKFF1f3HxMevJZqggUAdhQpWdW-r3hx4ieBAz_M8brm3FDAmRJFK34XgfNZm7s7AIZlTMBt5D8MRzuFVJ5IB41SNKwK4OeMYfCISyNllC8_kHnrANlmIXLHmbwc-Zy6gfbZnYB7okuEs617_7f3zHr7vUHoVEgKub431B8RPsvPxkaUyLsHvyPdL2HjzByREbkKywEmUGsgd9wF8wK4639cMHibaVfyMRkSydwtmrQPAn5n4ozqQ'"
   ]
  },
  {
   "cell_type": "code",
   "execution_count": 30,
   "metadata": {},
   "outputs": [],
   "source": [
    "application = linkedin.LinkedInApplication(token=access_token)"
   ]
  },
  {
   "cell_type": "code",
   "execution_count": 31,
   "metadata": {},
   "outputs": [
    {
     "data": {
      "text/plain": [
       "{'localizedLastName': 'FOTZO',\n",
       " 'profilePicture': {'displayImage': 'urn:li:digitalmediaAsset:C4D03AQH5qmBrP3X4Rg'},\n",
       " 'firstName': {'localized': {'fr_FR': 'Brice'},\n",
       "  'preferredLocale': {'country': 'FR', 'language': 'fr'}},\n",
       " 'lastName': {'localized': {'fr_FR': 'FOTZO'},\n",
       "  'preferredLocale': {'country': 'FR', 'language': 'fr'}},\n",
       " 'id': 'C-CH7NOhX4',\n",
       " 'localizedFirstName': 'Brice',\n",
       " 'numConnections': 0}"
      ]
     },
     "execution_count": 31,
     "metadata": {},
     "output_type": "execute_result"
    }
   ],
   "source": [
    "application.get_profile()"
   ]
  },
  {
   "cell_type": "code",
   "execution_count": 32,
   "metadata": {},
   "outputs": [
    {
     "ename": "AttributeError",
     "evalue": "'LinkedInApplication' object has no attribute 'search_job'",
     "output_type": "error",
     "traceback": [
      "\u001b[1;31m---------------------------------------------------------------------------\u001b[0m",
      "\u001b[1;31mAttributeError\u001b[0m                            Traceback (most recent call last)",
      "\u001b[1;32m<ipython-input-32-b675a47d3491>\u001b[0m in \u001b[0;36m<module>\u001b[1;34m\u001b[0m\n\u001b[1;32m----> 1\u001b[1;33m \u001b[0mapplication\u001b[0m\u001b[1;33m.\u001b[0m\u001b[0msearch_job\u001b[0m\u001b[1;33m(\u001b[0m\u001b[0mselectors\u001b[0m\u001b[1;33m=\u001b[0m\u001b[1;33m[\u001b[0m\u001b[1;33m{\u001b[0m\u001b[1;34m'jobs'\u001b[0m\u001b[1;33m:\u001b[0m \u001b[1;33m[\u001b[0m\u001b[1;34m'id'\u001b[0m\u001b[1;33m,\u001b[0m \u001b[1;34m'customer-job-code'\u001b[0m\u001b[1;33m,\u001b[0m \u001b[1;34m'posting-date'\u001b[0m\u001b[1;33m]\u001b[0m\u001b[1;33m}\u001b[0m\u001b[1;33m]\u001b[0m\u001b[1;33m,\u001b[0m \u001b[0mparams\u001b[0m\u001b[1;33m=\u001b[0m\u001b[1;33m{\u001b[0m\u001b[1;34m'title'\u001b[0m\u001b[1;33m:\u001b[0m \u001b[1;34m'python'\u001b[0m\u001b[1;33m,\u001b[0m \u001b[1;34m'count'\u001b[0m\u001b[1;33m:\u001b[0m \u001b[1;36m2\u001b[0m\u001b[1;33m}\u001b[0m\u001b[1;33m)\u001b[0m\u001b[1;33m\u001b[0m\u001b[1;33m\u001b[0m\u001b[0m\n\u001b[0m",
      "\u001b[1;31mAttributeError\u001b[0m: 'LinkedInApplication' object has no attribute 'search_job'"
     ]
    }
   ],
   "source": [
    "application.search_job(selectors=[{'jobs': ['id', 'customer-job-code', 'posting-date']}], params={'title': 'python', 'count': 2})"
   ]
  },
  {
   "cell_type": "code",
   "execution_count": null,
   "metadata": {},
   "outputs": [],
   "source": [
    "application."
   ]
  },
  {
   "cell_type": "code",
   "execution_count": null,
   "metadata": {},
   "outputs": [],
   "source": [
    "After run the previous cell, keep the token\n"
   ]
  },
  {
   "cell_type": "code",
   "execution_count": null,
   "metadata": {},
   "outputs": [],
   "source": [
    "Access Token: AQVXc1oMH4dL-baF6uJ-T_6V05bmvJSjFKnhdXidbiGTZS4dKtpKrI6bdIO6oVzWrfr5JpWaoiP8KpjhT1JnAk_SQEUgA1ePuPRQ0kaJy3koRDMiK941kN0Pn28Jl6fn4mzuuDhywV2T-jLVNSXnzR2XRlaQkt1N05XiTf3FA0BceU3CEPhtE7limhJ2b6kuie2XLFHqdOpueCsLnurONtKBDjOjkEepGtFAqlxD6gZrMQ2TbgiZ0HTz3aAihZzLJt4z43QwjLvzDGqG8vxNfj96YbMEgZQ1kyDOm7iq-HQro76VQr7IxJLH1-k3-EqCwfpNWKyIlmI2YrUZGaPspBEoTD9gZA"
   ]
  },
  {
   "cell_type": "code",
   "execution_count": null,
   "metadata": {},
   "outputs": [],
   "source": [
    "take the token and paste it into the next steps"
   ]
  },
  {
   "cell_type": "code",
   "execution_count": 6,
   "metadata": {},
   "outputs": [
    {
     "name": "stdout",
     "output_type": "stream",
     "text": [
      "CLIENT ID: 789e5qxvk48oza\n",
      "CLIENT SECRET: 3YwvvQl7n7GHP4yj\n",
      "Callback URL: http://localhost:8080/code/\n",
      "\n",
      "\n",
      "\n",
      "############## Requesting Information about your profile ##############\n",
      "\n",
      "\n",
      "Getting your profile information...\n"
     ]
    },
    {
     "ename": "LinkedInError",
     "evalue": "403 Client Error: Forbidden for url: https://api.linkedin.com/v2/people/~?format=json&oauth2_access_token=AQVXc1oMH4dL-baF6uJ-T_6V05bmvJSjFKnhdXidbiGTZS4dKtpKrI6bdIO6oVzWrfr5JpWaoiP8KpjhT1JnAk_SQEUgA1ePuPRQ0kaJy3koRDMiK941kN0Pn28Jl6fn4mzuuDhywV2T-jLVNSXnzR2XRlaQkt1N05XiTf3FA0BceU3CEPhtE7limhJ2b6kuie2XLFHqdOpueCsLnurONtKBDjOjkEepGtFAqlxD6gZrMQ2TbgiZ0HTz3aAihZzLJt4z43QwjLvzDGqG8vxNfj96YbMEgZQ1kyDOm7iq-HQro76VQr7IxJLH1-k3-EqCwfpNWKyIlmI2YrUZGaPspBEoTD9gZA",
     "output_type": "error",
     "traceback": [
      "\u001b[1;31m---------------------------------------------------------------------------\u001b[0m",
      "\u001b[1;31mHTTPError\u001b[0m                                 Traceback (most recent call last)",
      "\u001b[1;32m~\\anaconda3\\lib\\site-packages\\linkedin\\utils.py\u001b[0m in \u001b[0;36mraise_for_error\u001b[1;34m(response)\u001b[0m\n\u001b[0;32m     48\u001b[0m     \u001b[1;32mtry\u001b[0m\u001b[1;33m:\u001b[0m\u001b[1;33m\u001b[0m\u001b[1;33m\u001b[0m\u001b[0m\n\u001b[1;32m---> 49\u001b[1;33m         \u001b[0mresponse\u001b[0m\u001b[1;33m.\u001b[0m\u001b[0mraise_for_status\u001b[0m\u001b[1;33m(\u001b[0m\u001b[1;33m)\u001b[0m\u001b[1;33m\u001b[0m\u001b[1;33m\u001b[0m\u001b[0m\n\u001b[0m\u001b[0;32m     50\u001b[0m     \u001b[1;32mexcept\u001b[0m \u001b[1;33m(\u001b[0m\u001b[0mrequests\u001b[0m\u001b[1;33m.\u001b[0m\u001b[0mHTTPError\u001b[0m\u001b[1;33m,\u001b[0m \u001b[0mrequests\u001b[0m\u001b[1;33m.\u001b[0m\u001b[0mConnectionError\u001b[0m\u001b[1;33m)\u001b[0m \u001b[1;32mas\u001b[0m \u001b[0merror\u001b[0m\u001b[1;33m:\u001b[0m\u001b[1;33m\u001b[0m\u001b[1;33m\u001b[0m\u001b[0m\n",
      "\u001b[1;32m~\\anaconda3\\lib\\site-packages\\requests\\models.py\u001b[0m in \u001b[0;36mraise_for_status\u001b[1;34m(self)\u001b[0m\n\u001b[0;32m    940\u001b[0m         \u001b[1;32mif\u001b[0m \u001b[0mhttp_error_msg\u001b[0m\u001b[1;33m:\u001b[0m\u001b[1;33m\u001b[0m\u001b[1;33m\u001b[0m\u001b[0m\n\u001b[1;32m--> 941\u001b[1;33m             \u001b[1;32mraise\u001b[0m \u001b[0mHTTPError\u001b[0m\u001b[1;33m(\u001b[0m\u001b[0mhttp_error_msg\u001b[0m\u001b[1;33m,\u001b[0m \u001b[0mresponse\u001b[0m\u001b[1;33m=\u001b[0m\u001b[0mself\u001b[0m\u001b[1;33m)\u001b[0m\u001b[1;33m\u001b[0m\u001b[1;33m\u001b[0m\u001b[0m\n\u001b[0m\u001b[0;32m    942\u001b[0m \u001b[1;33m\u001b[0m\u001b[0m\n",
      "\u001b[1;31mHTTPError\u001b[0m: 403 Client Error: Forbidden for url: https://api.linkedin.com/v2/people/~?format=json&oauth2_access_token=AQVXc1oMH4dL-baF6uJ-T_6V05bmvJSjFKnhdXidbiGTZS4dKtpKrI6bdIO6oVzWrfr5JpWaoiP8KpjhT1JnAk_SQEUgA1ePuPRQ0kaJy3koRDMiK941kN0Pn28Jl6fn4mzuuDhywV2T-jLVNSXnzR2XRlaQkt1N05XiTf3FA0BceU3CEPhtE7limhJ2b6kuie2XLFHqdOpueCsLnurONtKBDjOjkEepGtFAqlxD6gZrMQ2TbgiZ0HTz3aAihZzLJt4z43QwjLvzDGqG8vxNfj96YbMEgZQ1kyDOm7iq-HQro76VQr7IxJLH1-k3-EqCwfpNWKyIlmI2YrUZGaPspBEoTD9gZA",
      "\nDuring handling of the above exception, another exception occurred:\n",
      "\u001b[1;31mLinkedInError\u001b[0m                             Traceback (most recent call last)",
      "\u001b[1;32m<ipython-input-6-d9e215851ef7>\u001b[0m in \u001b[0;36m<module>\u001b[1;34m\u001b[0m\n\u001b[0;32m     72\u001b[0m \u001b[1;33m\u001b[0m\u001b[0m\n\u001b[0;32m     73\u001b[0m \u001b[0mprint\u001b[0m\u001b[1;33m(\u001b[0m\u001b[1;34m\"Getting your profile information...\"\u001b[0m\u001b[1;33m)\u001b[0m\u001b[1;33m\u001b[0m\u001b[1;33m\u001b[0m\u001b[0m\n\u001b[1;32m---> 74\u001b[1;33m \u001b[0mprint\u001b[0m\u001b[1;33m(\u001b[0m\u001b[0mlkin_api\u001b[0m\u001b[1;33m.\u001b[0m\u001b[0mapplication\u001b[0m\u001b[1;33m.\u001b[0m\u001b[0mget_profile\u001b[0m\u001b[1;33m(\u001b[0m\u001b[1;33m)\u001b[0m\u001b[1;33m)\u001b[0m\u001b[1;33m\u001b[0m\u001b[1;33m\u001b[0m\u001b[0m\n\u001b[0m\u001b[0;32m     75\u001b[0m \u001b[1;33m\u001b[0m\u001b[0m\n\u001b[0;32m     76\u001b[0m \u001b[0mprint\u001b[0m\u001b[1;33m(\u001b[0m\u001b[1;34m\"\\nGetting specific information on your profile...\"\u001b[0m\u001b[1;33m)\u001b[0m\u001b[1;33m\u001b[0m\u001b[1;33m\u001b[0m\u001b[0m\n",
      "\u001b[1;32m~\\anaconda3\\lib\\site-packages\\linkedin\\linkedin.py\u001b[0m in \u001b[0;36mget_profile\u001b[1;34m(self, member_id, member_url, selectors, params, headers, member_email)\u001b[0m\n\u001b[0;32m    208\u001b[0m \u001b[1;33m\u001b[0m\u001b[0m\n\u001b[0;32m    209\u001b[0m         \u001b[0mresponse\u001b[0m \u001b[1;33m=\u001b[0m \u001b[0mself\u001b[0m\u001b[1;33m.\u001b[0m\u001b[0mmake_request\u001b[0m\u001b[1;33m(\u001b[0m\u001b[1;34m'GET'\u001b[0m\u001b[1;33m,\u001b[0m \u001b[0murl\u001b[0m\u001b[1;33m,\u001b[0m \u001b[0mparams\u001b[0m\u001b[1;33m=\u001b[0m\u001b[0mparams\u001b[0m\u001b[1;33m,\u001b[0m \u001b[0mheaders\u001b[0m\u001b[1;33m=\u001b[0m\u001b[0mheaders\u001b[0m\u001b[1;33m)\u001b[0m\u001b[1;33m\u001b[0m\u001b[1;33m\u001b[0m\u001b[0m\n\u001b[1;32m--> 210\u001b[1;33m         \u001b[0mraise_for_error\u001b[0m\u001b[1;33m(\u001b[0m\u001b[0mresponse\u001b[0m\u001b[1;33m)\u001b[0m\u001b[1;33m\u001b[0m\u001b[1;33m\u001b[0m\u001b[0m\n\u001b[0m\u001b[0;32m    211\u001b[0m         \u001b[1;32mreturn\u001b[0m \u001b[0mresponse\u001b[0m\u001b[1;33m.\u001b[0m\u001b[0mjson\u001b[0m\u001b[1;33m(\u001b[0m\u001b[1;33m)\u001b[0m\u001b[1;33m\u001b[0m\u001b[1;33m\u001b[0m\u001b[0m\n\u001b[0;32m    212\u001b[0m \u001b[1;33m\u001b[0m\u001b[0m\n",
      "\u001b[1;32m~\\anaconda3\\lib\\site-packages\\linkedin\\utils.py\u001b[0m in \u001b[0;36mraise_for_error\u001b[1;34m(response)\u001b[0m\n\u001b[0;32m     62\u001b[0m                 \u001b[1;32mraise\u001b[0m \u001b[0mex\u001b[0m\u001b[1;33m(\u001b[0m\u001b[0mmessage\u001b[0m\u001b[1;33m)\u001b[0m\u001b[1;33m\u001b[0m\u001b[1;33m\u001b[0m\u001b[0m\n\u001b[0;32m     63\u001b[0m             \u001b[1;32melse\u001b[0m\u001b[1;33m:\u001b[0m\u001b[1;33m\u001b[0m\u001b[1;33m\u001b[0m\u001b[0m\n\u001b[1;32m---> 64\u001b[1;33m                 \u001b[1;32mraise\u001b[0m \u001b[0mLinkedInError\u001b[0m\u001b[1;33m(\u001b[0m\u001b[0merror\u001b[0m\u001b[1;33m)\u001b[0m\u001b[1;33m\u001b[0m\u001b[1;33m\u001b[0m\u001b[0m\n\u001b[0m\u001b[0;32m     65\u001b[0m         \u001b[1;32mexcept\u001b[0m \u001b[1;33m(\u001b[0m\u001b[0mValueError\u001b[0m\u001b[1;33m,\u001b[0m \u001b[0mTypeError\u001b[0m\u001b[1;33m)\u001b[0m\u001b[1;33m:\u001b[0m\u001b[1;33m\u001b[0m\u001b[1;33m\u001b[0m\u001b[0m\n\u001b[0;32m     66\u001b[0m             \u001b[1;32mraise\u001b[0m \u001b[0mLinkedInError\u001b[0m\u001b[1;33m(\u001b[0m\u001b[0merror\u001b[0m\u001b[1;33m)\u001b[0m\u001b[1;33m\u001b[0m\u001b[1;33m\u001b[0m\u001b[0m\n",
      "\u001b[1;31mLinkedInError\u001b[0m: 403 Client Error: Forbidden for url: https://api.linkedin.com/v2/people/~?format=json&oauth2_access_token=AQVXc1oMH4dL-baF6uJ-T_6V05bmvJSjFKnhdXidbiGTZS4dKtpKrI6bdIO6oVzWrfr5JpWaoiP8KpjhT1JnAk_SQEUgA1ePuPRQ0kaJy3koRDMiK941kN0Pn28Jl6fn4mzuuDhywV2T-jLVNSXnzR2XRlaQkt1N05XiTf3FA0BceU3CEPhtE7limhJ2b6kuie2XLFHqdOpueCsLnurONtKBDjOjkEepGtFAqlxD6gZrMQ2TbgiZ0HTz3aAihZzLJt4z43QwjLvzDGqG8vxNfj96YbMEgZQ1kyDOm7iq-HQro76VQr7IxJLH1-k3-EqCwfpNWKyIlmI2YrUZGaPspBEoTD9gZA"
     ]
    }
   ],
   "source": []
  },
  {
   "cell_type": "code",
   "execution_count": null,
   "metadata": {},
   "outputs": [],
   "source": []
  }
 ],
 "metadata": {
  "kernelspec": {
   "display_name": "Python 3",
   "language": "python",
   "name": "python3"
  },
  "language_info": {
   "codemirror_mode": {
    "name": "ipython",
    "version": 3
   },
   "file_extension": ".py",
   "mimetype": "text/x-python",
   "name": "python",
   "nbconvert_exporter": "python",
   "pygments_lexer": "ipython3",
   "version": "3.8.3"
  }
 },
 "nbformat": 4,
 "nbformat_minor": 4
}