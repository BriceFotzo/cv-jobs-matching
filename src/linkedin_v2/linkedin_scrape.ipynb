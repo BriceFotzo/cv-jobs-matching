{
 "metadata": {
  "language_info": {
   "codemirror_mode": {
    "name": "ipython",
    "version": 3
   },
   "file_extension": ".py",
   "mimetype": "text/x-python",
   "name": "python",
   "nbconvert_exporter": "python",
   "pygments_lexer": "ipython3",
   "version": "3.9.0-final"
  },
  "orig_nbformat": 2,
  "kernelspec": {
   "name": "python3",
   "display_name": "Python 3.9.0 64-bit",
   "metadata": {
    "interpreter": {
     "hash": "63fd5069d213b44bf678585dea6b12cceca9941eaf7f819626cde1f2670de90d"
    }
   }
  }
 },
 "nbformat": 4,
 "nbformat_minor": 2,
 "cells": [
  {
   "cell_type": "code",
   "execution_count": 3,
   "metadata": {},
   "outputs": [],
   "source": [
    "from time import sleep\n",
    "import requests\n",
    "import pandas as pd\n",
    "import numpy as np\n",
    "from bs4 import BeautifulSoup"
   ]
  },
  {
   "cell_type": "code",
   "execution_count": 17,
   "metadata": {},
   "outputs": [],
   "source": [
    "jobs = requests.get('https://www.linkedin.com/jobs/search/?f_L=France&geoId=105015875&keywords=Data%20scientist&location=France')\n",
    "html_jobs = BeautifulSoup(jobs.content, \"html.parser\")\n"
   ]
  },
  {
   "cell_type": "code",
   "execution_count": 18,
   "metadata": {},
   "outputs": [
    {
     "output_type": "execute_result",
     "data": {
      "text/plain": [
       "[]"
      ]
     },
     "metadata": {},
     "execution_count": 18
    }
   ],
   "source": [
    "html_jobs.find_all('div',class_=\"jobs-search-results__list-item\")\n"
   ]
  },
  {
   "cell_type": "code",
   "execution_count": 1,
   "metadata": {},
   "outputs": [],
   "source": [
    "import re\n",
    "from selenium import webdriver\n",
    "from selenium.webdriver.common import keys"
   ]
  },
  {
   "cell_type": "code",
   "execution_count": 2,
   "metadata": {},
   "outputs": [],
   "source": [
    "browser=webdriver.Chrome(\"chromedriver.exe\")\n",
    "browser.get(\"https://www.linkedin.com\")"
   ]
  },
  {
   "cell_type": "code",
   "execution_count": 3,
   "metadata": {},
   "outputs": [],
   "source": [
    "username=browser.find_element_by_id(\"session_key\")\n",
    "username.send_keys(\"fotzotalom@gmail.com\")\n",
    "password=browser.find_element_by_id(\"session_password\")\n",
    "password.send_keys(\"7662;Y@nn\")"
   ]
  },
  {
   "cell_type": "code",
   "execution_count": 4,
   "metadata": {},
   "outputs": [],
   "source": [
    "login_button=browser.find_element_by_class_name(\"sign-in-form__submit-button\")\n",
    "login_button.click()"
   ]
  },
  {
   "cell_type": "code",
   "execution_count": 5,
   "metadata": {},
   "outputs": [],
   "source": [
    "browser.get('https://www.linkedin.com/jobs/search/?f_L=France&geoId=105015875&keywords=Data%20scientist&location=France')"
   ]
  },
  {
   "cell_type": "code",
   "execution_count": 6,
   "metadata": {},
   "outputs": [],
   "source": [
    "jobs=browser.find_elements_by_class_name(\"job-card-container\")"
   ]
  },
  {
   "cell_type": "code",
   "execution_count": 7,
   "metadata": {},
   "outputs": [],
   "source": [
    "jobs_links=[]\n",
    "for i in jobs:\n",
    "    jobs_links.append(i.find_elements_by_tag_name('a')[0].get_attribute('href'))"
   ]
  },
  {
   "cell_type": "code",
   "execution_count": 8,
   "metadata": {},
   "outputs": [],
   "source": [
    "browser.get(\"https://www.linkedin.com/jobs/view/2431105040/?eBP=CwEAAAF4LK2wCOB0_2FUAoUv3QCV70wf9tBrBzjh4-hFiVIn4K01KpRAe1SZymiXJbgL8jbqjgBrbCOQ-tcAQV9n6cJWoYKjRsGpc79k2IN1tEaKdoFYxlp4rNzJ_Cs09nHNxOu0UFCcklRwi4uK76X2M2Dnp7waur5KlhUtEl-qUJAsJsskV9kBRDDnyVDH1eMbC5hnSlZvR8MUi3g_Z5sJbDcqDEkf0wzzBmmJgFqmNq9kSbFqF1UIqd1Su72bFl5DV87df04ZVUQp7EzCaqsQF6uNmUuqZMyhazXpqzGQT6xSCPhTnMUviFJF1Q5xvgywvY7rg3VRKdyvCHBGf2xez6rdGVaPie8W-DpX2ntHljBQxvKrGaWqOgUXvRE91TWC_HXE2Q&recommendedFlavor=COMPANY_RECRUIT&refId=676B%2FGf5wNweDpCmiN9FOw%3D%3D&trackingId=2DW6IqZQWbmRryU49OUaUg%3D%3D&trk=flagship3_search_srp_jobs\")"
   ]
  },
  {
   "cell_type": "code",
   "execution_count": 33,
   "metadata": {},
   "outputs": [
    {
     "output_type": "execute_result",
     "data": {
      "text/plain": [
       "[<selenium.webdriver.remote.webelement.WebElement (session=\"e92dfb9f4983767ad29281c59f9ba596\", element=\"a40fd56e-db9a-4b2d-9a82-3d67ce1eef37\")>,\n",
       " <selenium.webdriver.remote.webelement.WebElement (session=\"e92dfb9f4983767ad29281c59f9ba596\", element=\"c08fac78-5bf8-4fb7-b86d-d5c3da7f0b7c\")>]"
      ]
     },
     "metadata": {},
     "execution_count": 33
    }
   ],
   "source": [
    "secteurs=browser.find_elements_by_class_name('jobs-box__list')\n",
    "secteurs"
   ]
  },
  {
   "cell_type": "code",
   "execution_count": 34,
   "metadata": {},
   "outputs": [
    {
     "output_type": "execute_result",
     "data": {
      "text/plain": [
       "['Banques Services financiers', '']"
      ]
     },
     "metadata": {},
     "execution_count": 34
    }
   ],
   "source": [
    "secteurs_text=[s.text for s in secteurs]\n",
    "secteurs_text"
   ]
  },
  {
   "cell_type": "code",
   "execution_count": 37,
   "metadata": {},
   "outputs": [],
   "source": [
    "\n",
    "more_button=browser.find_element_by_class_name(\"artdeco-card__action\")\n",
    "more_button.click()"
   ]
  },
  {
   "cell_type": "code",
   "execution_count": 38,
   "metadata": {},
   "outputs": [
    {
     "output_type": "execute_result",
     "data": {
      "text/plain": [
       "\"À propos de l’offre d’emploi\\nRejoindre La Banque Postale, c'est intégrer une banque citoyenne, dynamique et innovante, qui poursuit un développement accéléré sur les marchés de la banque de détail, de l'assurance et de la gestion d'actifs.\\n\\n\\nBanque de service public, La Banque Postale accompagne ses clients dans une relation bancaire durable : 10,7 millions de clients particuliers et 400 000 clients entreprises, professionnels, acteurs de l'économie sociale et du secteur public local lui font confiance.\\n\\n\\nAttentive à ses collaborateurs, elle leur propose des parcours diversifiés et investit dans leur formation tout au long de leur parcours professionnel.\\n\\nVos missions\\n\\nEn rejoignant le département Valorisation des données, en tant que Data Scientist Sénior, vous intégrer une équipe composée de 2 data Scientist/analysts séniors, 3 data scientists juniors, 1 doctorante et et aurez pour missions de :\\n\\nContribuer à l'exploitation et l'identification des gisements potentiels de données de La Banque Postale afin de proposer de nouveaux usages aux métiers ;\\nIdentifier les leviers de performances et de création de valeur dans une logique business au service des métiers et des filiales ;\\nDévelopper et contribuer à rendre les modèles prédictifs et descriptifs de La Banque Postale plus pertinents ;\\nPiloter et/ou accompagner des Proof-Of-Concept ou Proof-Of-Value à fortes dimensions et évaluer la pertinence d'industrialiser ces POC au regard de leur performance ;\\nAccompagner l'entreprise dans le développement des usages Big Data et Machine Learning ;\\nApporter votre expertise data et expérience en gestion de projet aux data scientists juniors de l'équipe ;\\nEncadrer les stagiaires/alternants intervenant sur les projets de data science ;\\nParticiper activement à la veille Data de La Banque Postale pour détecter et suivre les innovations marquantes dans le domaine du digital et de la Data Science pour les dupliquer au sein de La Banque Postale ;\\nEtre ambassadeur de la culture Data au sein de l'entreprise pour favoriser l'acculturation des collaborateurs sur ces sujets ;\\nEtre pro-actif en matière de formation (suivi de MOOC, participation à des Kaggle), pour maintenir un haut niveau d'expertise sur les méthodologies statistiques de data science.\\n\\nPour occuper un poste de Data Scientist Sénior, vous :\\n\\nEtes titulaire d'un master ou d'un diplôme d'ingénieur en data science, statistiques, informatiques ou mathématiques\\nJustifiez d'au moins 4 années d'expérience professionnelle réussie dans l'univers de la modélisation en ayant mené des projets data science jusqu'à leur implémentation industrielle sur des environnements Big Data\\nEtes à l'aise sur les dernières avancées dans le domaine (Machine learning, Deep learning, NLP, Optimisation) et sur leur implémentation informatique (programmation python / hadoop / Spark) sur la plateforme Dataiku. La connaissance de SAS est un atout.\\nDisposez d'aptitudes sur les outils data visualisation (QlikSense, Dash)\\nAvez une expérience en gestion de projet, en production de livrables synthétiques à destination des métiers et du top management.\\nEnfin, ce poste nécessite d'être créatif, rigoureux, d'avoir une bonne capacité d'adaptation, d'analyse, de communication et de coopération.\""
      ]
     },
     "metadata": {},
     "execution_count": 38
    }
   ],
   "source": [
    "content=browser.find_elements_by_class_name('jobs-box__html-content')[0].text\n",
    "content\n"
   ]
  },
  {
   "cell_type": "code",
   "execution_count": 101,
   "metadata": {},
   "outputs": [],
   "source": [
    "# Import summarize from gensim\n",
    "from gensim.summarization.summarizer import summarize\n",
    "from gensim.summarization import keywords# Import the library\n",
    "# to convert MSword doc to txt for processing.\n",
    "import docx2txt"
   ]
  },
  {
   "cell_type": "code",
   "execution_count": 50,
   "metadata": {},
   "outputs": [],
   "source": [
    "resume = docx2txt.process(\"CV_Brice_FOTZO.docx\")"
   ]
  },
  {
   "cell_type": "code",
   "execution_count": 51,
   "metadata": {},
   "outputs": [],
   "source": [
    "job_description = str(content)"
   ]
  },
  {
   "cell_type": "code",
   "execution_count": 41,
   "metadata": {},
   "outputs": [],
   "source": [
    "import spacy\n",
    "from spacy.lang.en.stop_words import STOP_WORDS\n",
    "from string import punctuation\n",
    "from collections import Counter\n",
    "from heapq import nlargest\n",
    "import en_core_web_sm\n",
    "import fr_core_news_sm\n"
   ]
  },
  {
   "cell_type": "code",
   "execution_count": 53,
   "metadata": {},
   "outputs": [],
   "source": [
    "nlp_job = fr_core_news_sm.load()\n",
    "nlp_resume=en_core_web_sm.load()"
   ]
  },
  {
   "cell_type": "code",
   "execution_count": 42,
   "metadata": {},
   "outputs": [],
   "source": [
    "doc=nlp(nlp_resume)\n",
    "doc"
   ]
  },
  {
   "cell_type": "code",
   "execution_count": 149,
   "metadata": {},
   "outputs": [
    {
     "output_type": "execute_result",
     "data": {
      "text/plain": [
       "34"
      ]
     },
     "metadata": {},
     "execution_count": 149
    }
   ],
   "source": [
    "len(list(doc.sents))"
   ]
  },
  {
   "cell_type": "code",
   "execution_count": 43,
   "metadata": {},
   "outputs": [],
   "source": [
    "keyword = []\n",
    "stopwords = list(STOP_WORDS)\n",
    "pos_tag = ['PROPN', 'ADJ', 'NOUN', 'VERB','ADP']\n",
    "for token in doc:\n",
    "    if(token.text in stopwords or token.text in punctuation):\n",
    "        continue\n",
    "    if(token.pos_ in pos_tag):\n",
    "        keyword.append(token.text)"
   ]
  },
  {
   "cell_type": "code",
   "execution_count": 44,
   "metadata": {},
   "outputs": [
    {
     "output_type": "stream",
     "name": "stdout",
     "text": [
      "[('de', 37), (\"d'\", 13), ('sur', 9), ('à', 9), ('Banque', 7)]\n"
     ]
    }
   ],
   "source": [
    "\n",
    "freq_word = Counter(keyword)\n",
    "print(freq_word.most_common(5))"
   ]
  },
  {
   "cell_type": "code",
   "execution_count": 156,
   "metadata": {},
   "outputs": [
    {
     "output_type": "execute_result",
     "data": {
      "text/plain": [
       "[('Banque', 0.14285714285714285),\n",
       " ('Postale', 0.10204081632653061),\n",
       " ('Data', 0.08163265306122448),\n",
       " ('science', 0.08163265306122448),\n",
       " ('gestion', 0.061224489795918366),\n",
       " ('clients', 0.061224489795918366),\n",
       " ('Scientist', 0.061224489795918366),\n",
       " ('data', 0.061224489795918366),\n",
       " ('métiers', 0.061224489795918366),\n",
       " ('expérience', 0.061224489795918366)]"
      ]
     },
     "metadata": {},
     "execution_count": 156
    }
   ],
   "source": [
    "max_freq = Counter(keyword).most_common(1)[0][1]\n",
    "for word in freq_word.keys():  \n",
    "        freq_word[word] = (freq_word[word]/max_freq)\n",
    "freq_word.most_common(10)"
   ]
  },
  {
   "cell_type": "code",
   "execution_count": 45,
   "metadata": {},
   "outputs": [
    {
     "output_type": "stream",
     "name": "stdout",
     "text": [
      "{À propos de l’offre d’: 41, emploi: 1, Rejoindre: 1, La Banque Postale, c'est intégrer une banque citoyenne, dynamique et innovante, qui poursuit un développement accéléré sur les marchés de la banque de détail, de l'assurance et de la gestion d'actifs.: 202, \n\n\nBanque de service public, La Banque Postale accompagne ses clients dans une relation bancaire durable : 10,7 millions de clients particuliers et 400 000 clients entreprises, professionnels, acteurs de l'économie sociale et du secteur public local lui font confiance.: 170, \n\n\nAttentive à ses collaborateurs, elle leur propose des parcours diversifiés et investit dans leur formation tout au long de leur parcours professionnel.: 80, Vos missions\n\n: 3, En rejoignant le département Valorisation des données, en tant que Data Scientist Sénior, vous intégrer une équipe composée de 2 data Scientist/analysts séniors, 3 data scientists juniors, 1 doctorante et et aurez pour missions de :\n\nContribuer à l'exploitation et l'identification des gisements potentiels de données de La Banque Postale afin de proposer de nouveaux usages aux métiers ;: 326, \nIdentifier les leviers de performances et de création de valeur dans une logique business au service des métiers et des filiales ;: 151, \nDévelopper et contribuer à rendre les modèles prédictifs et descriptifs de La Banque Postale plus pertinents ;: 65, \nPiloter et/ou accompagner des Proof: 11, -Of: 2, -Concept ou Proof: 3, -Of: 2, -Value à fortes dimensions et évaluer la pertinence d'industrialiser ces POC au regard de leur performance ;: 74, Accompagner l'entreprise dans le développement des usages Big Data et Machine Learning ;: 33, \nApporter: 1, votre expertise data et expérience en gestion de projet aux data scientists juniors de l'équipe ;: 105, \nEncadrer les stagiaires/alternants intervenant sur les projets de data science ;: 60, \nParticiper activement à la veille Data de La Banque Postale pour détecter et suivre les innovations marquantes dans le domaine du digital et de la Data Science pour les dupliquer au sein de La Banque Postale ;: 198, \nEtre ambassadeur de la culture: 39, Data au sein de l'entreprise pour favoriser l'acculturation des collaborateurs sur ces sujets ;: 80, \nEtre pro-actif en matière de formation (suivi de MOOC, participation à des Kaggle), pour maintenir un haut niveau d'expertise sur les méthodologies statistiques de data science.: 185, Pour occuper un poste de Data Scientist Sénior, vous :\n\nEtes titulaire d'un master ou d'un diplôme d'ingénieur en data science, statistiques, informatiques ou mathématiques\nJustifiez d'au moins 4 années d'expérience professionnelle réussie dans l'univers de la modélisation en ayant mené des projets data science jusqu'à leur implémentation industrielle sur des environnements Big Data\n: 266, Etes: 2, à l'aise sur les dernières avancées dans le domaine (Machine learning, Deep learning, NLP, Optimisation) et sur leur implémentation informatique (programmation python / hadoop / Spark): 55, sur la plateforme Dataiku.: 11, La connaissance de SAS est un atout.: 39, \nDisposez d'aptitudes sur les outils data visualisation (QlikSense, Dash)\nAvez une expérience en gestion de projet, en production de livrables synthétiques à destination des métiers et du top management.: 156, \nEnfin, ce poste nécessite d'être créatif, rigoureux, d'avoir une bonne capacité d'adaptation, d'analyse, de communication et de coopération.: 138}\n"
     ]
    }
   ],
   "source": [
    "sent_strength={}\n",
    "for sent in doc.sents:\n",
    "    for word in sent:\n",
    "        if word.text in freq_word.keys():\n",
    "            if sent in sent_strength.keys():\n",
    "                sent_strength[sent]+=freq_word[word.text]\n",
    "            else:\n",
    "                sent_strength[sent]=freq_word[word.text]\n",
    "print(sent_strength)"
   ]
  },
  {
   "cell_type": "code",
   "execution_count": 47,
   "metadata": {},
   "outputs": [
    {
     "output_type": "stream",
     "name": "stdout",
     "text": [
      "[En rejoignant le département Valorisation des données, en tant que Data Scientist Sénior, vous intégrer une équipe composée de 2 data Scientist/analysts séniors, 3 data scientists juniors, 1 doctorante et et aurez pour missions de :\n\nContribuer à l'exploitation et l'identification des gisements potentiels de données de La Banque Postale afin de proposer de nouveaux usages aux métiers ;, Pour occuper un poste de Data Scientist Sénior, vous :\n\nEtes titulaire d'un master ou d'un diplôme d'ingénieur en data science, statistiques, informatiques ou mathématiques\nJustifiez d'au moins 4 années d'expérience professionnelle réussie dans l'univers de la modélisation en ayant mené des projets data science jusqu'à leur implémentation industrielle sur des environnements Big Data\n, La Banque Postale, c'est intégrer une banque citoyenne, dynamique et innovante, qui poursuit un développement accéléré sur les marchés de la banque de détail, de l'assurance et de la gestion d'actifs.]\n"
     ]
    }
   ],
   "source": [
    "summarized_sentences = nlargest(3, sent_strength, key=sent_strength.get)\n",
    "print(summarized_sentences)"
   ]
  },
  {
   "cell_type": "code",
   "execution_count": 48,
   "metadata": {},
   "outputs": [
    {
     "output_type": "stream",
     "name": "stdout",
     "text": [
      "En rejoignant le département Valorisation des données, en tant que Data Scientist Sénior, vous intégrer une équipe composée de 2 data Scientist/analysts séniors, 3 data scientists juniors, 1 doctorante et et aurez pour missions de :\n\nContribuer à l'exploitation et l'identification des gisements potentiels de données de La Banque Postale afin de proposer de nouveaux usages aux métiers ; Pour occuper un poste de Data Scientist Sénior, vous :\n\nEtes titulaire d'un master ou d'un diplôme d'ingénieur en data science, statistiques, informatiques ou mathématiques\nJustifiez d'au moins 4 années d'expérience professionnelle réussie dans l'univers de la modélisation en ayant mené des projets data science jusqu'à leur implémentation industrielle sur des environnements Big Data\n La Banque Postale, c'est intégrer une banque citoyenne, dynamique et innovante, qui poursuit un développement accéléré sur les marchés de la banque de détail, de l'assurance et de la gestion d'actifs.\n"
     ]
    }
   ],
   "source": [
    "\n",
    "final_sentences = [ w.text for w in summarized_sentences ]\n",
    "summary = ' '.join(final_sentences)\n",
    "print(summary)"
   ]
  },
  {
   "cell_type": "code",
   "execution_count": 49,
   "metadata": {},
   "outputs": [
    {
     "output_type": "execute_result",
     "data": {
      "text/plain": [
       "\"Rejoindre La Banque Postale, c'est intégrer une banque citoyenne, dynamique et innovante, qui poursuit un développement accéléré sur les marchés de la banque de détail, de l'assurance et de la gestion d'actifs.\\nEtre pro-actif en matière de formation (suivi de MOOC, participation à des Kaggle), pour maintenir un haut niveau d'expertise sur les méthodologies statistiques de data science.\""
      ]
     },
     "metadata": {},
     "execution_count": 49
    }
   ],
   "source": [
    "summarize(text_resume, ratio=0.1)"
   ]
  },
  {
   "cell_type": "code",
   "execution_count": 55,
   "metadata": {},
   "outputs": [],
   "source": [
    "text_list = [job_description, resume]\n",
    "from sklearn.feature_extraction.text import CountVectorizer\n",
    "cv = CountVectorizer()\n",
    "count_matrix = cv.fit_transform(text_list)"
   ]
  },
  {
   "cell_type": "code",
   "execution_count": 60,
   "metadata": {},
   "outputs": [
    {
     "output_type": "stream",
     "name": "stdout",
     "text": [
      "Your resume matches about 13.68% of the job description.\ndata\nspotfire\nguyancourt\ntechnical\ngroup\ngroupe\nmachines\nrenault\nskills\npython\ngithub\noriented\nmachine learning\nhiveql\ntopic\ntools\ntool\nesigelec\npyspark\nprocessing\nprocess\nvisualization\nbehaviors\nbehavior\nlinkedin\nreferences\nelectriques\nplant\nplants\ndesigned\necole\ntransformation\ngitlab\noptimize energy consumption\nmanagement\nmanager\nlab\nanalysis\nmolding\nscientist\nintern\nbrice\naws\nmonitoring\nadministration\nquality optimization\nconsumptions\ntype\nlanguages\nreactjs\nexperience\nexperiences\ncuriosity\nautonomous\nsql\ndouai\nheroku\nreduce\nreducing\npotential gain\nhealth\nbusiness users\nfree operators\nsave\nsolve problems\nassembly lines\nhsmt\nmoney\neducation\nhtml\ndash\naccidents\nactivities\n"
     ]
    }
   ],
   "source": [
    "from sklearn.metrics.pairwise import cosine_similarity\n",
    "# get the match percentage\n",
    "matchPercentage = cosine_similarity(count_matrix)[0][1] * 100\n",
    "matchPercentage = round(matchPercentage, 2) # round to two decimal\n",
    "print(\"Your resume matches about \"+ str(matchPercentage)+ \"% of the job description.\")\n",
    "# output\n",
    "#Your resume matches about 33.33% of the job description.#keywords\n",
    "print(keywords(resume, ratio=0.5)) \n",
    "# gives you the keywords of the job description"
   ]
  },
  {
   "cell_type": "code",
   "execution_count": null,
   "metadata": {},
   "outputs": [],
   "source": []
  }
 ]
}