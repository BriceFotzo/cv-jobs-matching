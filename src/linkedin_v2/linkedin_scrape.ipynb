{
 "metadata": {
  "language_info": {
   "codemirror_mode": {
    "name": "ipython",
    "version": 3
   },
   "file_extension": ".py",
   "mimetype": "text/x-python",
   "name": "python",
   "nbconvert_exporter": "python",
   "pygments_lexer": "ipython3",
   "version": "3.9.0-final"
  },
  "orig_nbformat": 2,
  "kernelspec": {
   "name": "python3",
   "display_name": "Python 3.9.0 64-bit",
   "metadata": {
    "interpreter": {
     "hash": "63fd5069d213b44bf678585dea6b12cceca9941eaf7f819626cde1f2670de90d"
    }
   }
  }
 },
 "nbformat": 4,
 "nbformat_minor": 2,
 "cells": [
  {
   "cell_type": "code",
   "execution_count": 1,
   "metadata": {},
   "outputs": [],
   "source": [
    "import re\n",
    "from selenium import webdriver\n",
    "from selenium.webdriver.common import keys"
   ]
  },
  {
   "cell_type": "code",
   "execution_count": 32,
   "metadata": {},
   "outputs": [],
   "source": [
    "def scrape_job(job_link):\n",
    "    \"\"\"\n",
    "    \"\"\"\n",
    "    browser.get(job_link)\n",
    "    more_button=browser.find_element_by_class_name(\"artdeco-card__action\")\n",
    "    more_button.click()\n",
    "    time.sleep(3)\n",
    "    content=browser.find_elements_by_class_name('jobs-box__html-content')[0].text\n",
    "    return content\n"
   ]
  },
  {
   "cell_type": "code",
   "execution_count": 40,
   "metadata": {},
   "outputs": [],
   "source": [
    "def get_jobs_links(job_query,user,pwd):\n",
    "    \"\"\"[summary]\n",
    "\n",
    "    Args:\n",
    "        job_query ([type]): [description]\n",
    "    \"\"\"\n",
    "    browser=webdriver.Chrome(\"chromedriver.exe\")\n",
    "    browser.get(\"https://www.linkedin.com\")\n",
    "\n",
    "    username=browser.find_element_by_id(\"session_key\")\n",
    "    username.send_keys(user)\n",
    "    password=browser.find_element_by_id(\"session_password\")\n",
    "    password.send_keys(pwd)\n",
    "\n",
    "    login_button=browser.find_element_by_class_name(\"sign-in-form__submit-button\")\n",
    "    login_button.click()\n",
    "\n",
    "    browser.get(job_query)\n",
    "\n",
    "    jobs=browser.find_elements_by_class_name(\"job-card-container\")\n",
    "\n",
    "    jobs_links=[]\n",
    "    for i in jobs:\n",
    "        jobs_links.append(i.find_elements_by_tag_name('a')[0].get_attribute('href'))\n",
    "    return jobs_links"
   ]
  },
  {
   "cell_type": "code",
   "execution_count": 35,
   "metadata": {},
   "outputs": [
    {
     "output_type": "error",
     "ename": "AttributeError",
     "evalue": "'NoneType' object has no attribute 'send_keys'",
     "traceback": [
      "\u001b[1;31m---------------------------------------------------------------------------\u001b[0m",
      "\u001b[1;31mAttributeError\u001b[0m                            Traceback (most recent call last)",
      "\u001b[1;32m<ipython-input-35-3d96cdd29cb2>\u001b[0m in \u001b[0;36m<module>\u001b[1;34m\u001b[0m\n\u001b[0;32m      3\u001b[0m \u001b[1;33m\u001b[0m\u001b[0m\n\u001b[0;32m      4\u001b[0m \u001b[0musername\u001b[0m\u001b[1;33m=\u001b[0m\u001b[0mbrowser\u001b[0m\u001b[1;33m.\u001b[0m\u001b[0mfind_element_by_id\u001b[0m\u001b[1;33m(\u001b[0m\u001b[1;34m\"session_key\"\u001b[0m\u001b[1;33m)\u001b[0m\u001b[1;33m\u001b[0m\u001b[1;33m\u001b[0m\u001b[0m\n\u001b[1;32m----> 5\u001b[1;33m \u001b[0musername\u001b[0m\u001b[1;33m.\u001b[0m\u001b[0msend_keys\u001b[0m\u001b[1;33m(\u001b[0m\u001b[1;34m\"fotzotalom@gmail.com\"\u001b[0m\u001b[1;33m)\u001b[0m\u001b[1;33m\u001b[0m\u001b[1;33m\u001b[0m\u001b[0m\n\u001b[0m\u001b[0;32m      6\u001b[0m \u001b[0mpassword\u001b[0m\u001b[1;33m=\u001b[0m\u001b[0mbrowser\u001b[0m\u001b[1;33m.\u001b[0m\u001b[0mfind_element_by_id\u001b[0m\u001b[1;33m(\u001b[0m\u001b[1;34m\"session_password\"\u001b[0m\u001b[1;33m)\u001b[0m\u001b[1;33m\u001b[0m\u001b[1;33m\u001b[0m\u001b[0m\n\u001b[0;32m      7\u001b[0m \u001b[0mpassword\u001b[0m\u001b[1;33m.\u001b[0m\u001b[0msend_keys\u001b[0m\u001b[1;33m(\u001b[0m\u001b[1;34m\"7662;Y@nn\"\u001b[0m\u001b[1;33m)\u001b[0m\u001b[1;33m\u001b[0m\u001b[1;33m\u001b[0m\u001b[0m\n",
      "\u001b[1;31mAttributeError\u001b[0m: 'NoneType' object has no attribute 'send_keys'"
     ]
    }
   ],
   "source": [
    "browser=webdriver.Chrome(\"chromedriver.exe\")\n",
    "browser.get(\"https://www.linkedin.com\")\n",
    "\n",
    "username=browser.find_element_by_id(\"session_key\")\n",
    "username.send_keys(\"fotzotalom@gmail.com\")\n",
    "password=browser.find_element_by_id(\"session_password\")\n",
    "password.send_keys(\"7662;Y@nn\")\n",
    "\n",
    "login_button=browser.find_element_by_class_name(\"sign-in-form__submit-button\")\n",
    "login_button.click()\n",
    "\n",
    "browser.get('https://www.linkedin.com/jobs/search/?f_L=France&geoId=105015875&keywords=Data%20scientist&location=France')\n",
    "\n",
    "jobs=browser.find_elements_by_class_name(\"job-card-container\")\n",
    "\n",
    "jobs_links=[]\n",
    "for i in jobs:\n",
    "    jobs_links.append(i.find_elements_by_tag_name('a')[0].get_attribute('href'))"
   ]
  },
  {
   "cell_type": "code",
   "execution_count": 41,
   "metadata": {},
   "outputs": [
    {
     "output_type": "execute_result",
     "data": {
      "text/plain": [
       "['https://www.linkedin.com/jobs/view/2433961180/?refId=kkkmkqVY3yx74%2FM7yXUG%2BQ%3D%3D&trackingId=7zvG5%2FP5HZ0vyBsPXuDRDA%3D%3D&trk=flagship3_search_srp_jobs',\n",
       " 'https://www.linkedin.com/jobs/view/2424701098/?refId=kkkmkqVY3yx74%2FM7yXUG%2BQ%3D%3D&trackingId=sVy7YEfeYLY7TomYHZj3WQ%3D%3D&trk=flagship3_search_srp_jobs',\n",
       " 'https://www.linkedin.com/jobs/view/2432182803/?refId=kkkmkqVY3yx74%2FM7yXUG%2BQ%3D%3D&trackingId=Ass0VX0l8ulQKHbX23XLKg%3D%3D&trk=flagship3_search_srp_jobs',\n",
       " 'https://www.linkedin.com/jobs/view/2428219138/?refId=kkkmkqVY3yx74%2FM7yXUG%2BQ%3D%3D&trackingId=yk%2Bv7b6MXw5DNQbNrBF4wg%3D%3D&trk=flagship3_search_srp_jobs',\n",
       " 'https://www.linkedin.com/jobs/view/2409170958/?refId=kkkmkqVY3yx74%2FM7yXUG%2BQ%3D%3D&trackingId=JEPy%2FrP349hBbM0%2FWiBuvQ%3D%3D&trk=flagship3_search_srp_jobs',\n",
       " 'https://www.linkedin.com/jobs/view/2408092936/?refId=kkkmkqVY3yx74%2FM7yXUG%2BQ%3D%3D&trackingId=puxXZJMs4SEJFZFPXZ6gww%3D%3D&trk=flagship3_search_srp_jobs',\n",
       " 'https://www.linkedin.com/jobs/view/2437963836/?refId=kkkmkqVY3yx74%2FM7yXUG%2BQ%3D%3D&trackingId=EoDu8Gcx90sPGGOlji4FVw%3D%3D&trk=flagship3_search_srp_jobs']"
      ]
     },
     "metadata": {},
     "execution_count": 41
    }
   ],
   "source": [
    "get_jobs_links('https://www.linkedin.com/jobs/search/?f_L=France&geoId=105015875&keywords=Data%20scientist&location=France',\"fotzotalom@gmail.com\",\"7662;Y@nn\")"
   ]
  },
  {
   "cell_type": "code",
   "execution_count": 15,
   "metadata": {},
   "outputs": [],
   "source": [
    "browser=webdriver.Chrome(\"chromedriver.exe\")\n",
    "browser.get(\"https://www.linkedin.com\")"
   ]
  },
  {
   "cell_type": "code",
   "execution_count": 16,
   "metadata": {},
   "outputs": [],
   "source": [
    "username=browser.find_element_by_id(\"session_key\")\n",
    "username.send_keys(\"fotzotalom@gmail.com\")\n",
    "password=browser.find_element_by_id(\"session_password\")\n",
    "password.send_keys(\"7662;Y@nn\")"
   ]
  },
  {
   "cell_type": "code",
   "execution_count": 17,
   "metadata": {},
   "outputs": [],
   "source": [
    "login_button=browser.find_element_by_class_name(\"sign-in-form__submit-button\")\n",
    "login_button.click()"
   ]
  },
  {
   "cell_type": "code",
   "execution_count": 18,
   "metadata": {},
   "outputs": [],
   "source": [
    "browser.get('https://www.linkedin.com/jobs/search/?f_L=France&geoId=105015875&keywords=Data%20scientist&location=France')"
   ]
  },
  {
   "cell_type": "code",
   "execution_count": 19,
   "metadata": {},
   "outputs": [],
   "source": [
    "jobs=browser.find_elements_by_class_name(\"job-card-container\")"
   ]
  },
  {
   "cell_type": "code",
   "execution_count": 20,
   "metadata": {},
   "outputs": [],
   "source": [
    "jobs_links=[]\n",
    "for i in jobs:\n",
    "    jobs_links.append(i.find_elements_by_tag_name('a')[0].get_attribute('href'))"
   ]
  },
  {
   "cell_type": "code",
   "execution_count": 29,
   "metadata": {},
   "outputs": [],
   "source": [
    "browser.get(\"https://www.linkedin.com/jobs/view/2431105040/?eBP=CwEAAAF4LK2wCOB0_2FUAoUv3QCV70wf9tBrBzjh4-hFiVIn4K01KpRAe1SZymiXJbgL8jbqjgBrbCOQ-tcAQV9n6cJWoYKjRsGpc79k2IN1tEaKdoFYxlp4rNzJ_Cs09nHNxOu0UFCcklRwi4uK76X2M2Dnp7waur5KlhUtEl-qUJAsJsskV9kBRDDnyVDH1eMbC5hnSlZvR8MUi3g_Z5sJbDcqDEkf0wzzBmmJgFqmNq9kSbFqF1UIqd1Su72bFl5DV87df04ZVUQp7EzCaqsQF6uNmUuqZMyhazXpqzGQT6xSCPhTnMUviFJF1Q5xvgywvY7rg3VRKdyvCHBGf2xez6rdGVaPie8W-DpX2ntHljBQxvKrGaWqOgUXvRE91TWC_HXE2Q&recommendedFlavor=COMPANY_RECRUIT&refId=676B%2FGf5wNweDpCmiN9FOw%3D%3D&trackingId=2DW6IqZQWbmRryU49OUaUg%3D%3D&trk=flagship3_search_srp_jobs\")\n"
   ]
  },
  {
   "cell_type": "code",
   "execution_count": 30,
   "metadata": {},
   "outputs": [],
   "source": [
    "more_button=browser.find_element_by_class_name(\"artdeco-card__action\")\n",
    "content=\"\"\n",
    "more_button.click()\n",
    "time.sleep(3)\n",
    "content=browser.find_elements_by_class_name('jobs-box__html-content')[0].text\n",
    "    \n"
   ]
  },
  {
   "cell_type": "code",
   "execution_count": 31,
   "metadata": {},
   "outputs": [
    {
     "output_type": "execute_result",
     "data": {
      "text/plain": [
       "\"À propos de l’offre d’emploi\\nRejoindre La Banque Postale, c'est intégrer une banque citoyenne, dynamique et innovante, qui poursuit un développement accéléré sur les marchés de la banque de détail, de l'assurance et de la gestion d'actifs.\\n\\n\\nBanque de service public, La Banque Postale accompagne ses clients dans une relation bancaire durable : 10,7 millions de clients particuliers et 400 000 clients entreprises, professionnels, acteurs de l'économie sociale et du secteur public local lui font confiance.\\n\\n\\nAttentive à ses collaborateurs, elle leur propose des parcours diversifiés et investit dans leur formation tout au long de leur parcours professionnel.\\n\\nVos missions\\n\\nEn rejoignant le département Valorisation des données, en tant que Data Scientist Sénior, vous intégrer une équipe composée de 2 data Scientist/analysts séniors, 3 data scientists juniors, 1 doctorante et et aurez pour missions de :\\n\\nContribuer à l'exploitation et l'identification des gisements potentiels de données de La Banque Postale afin de proposer de nouveaux usages aux métiers ;\\nIdentifier les leviers de performances et de création de valeur dans une logique business au service des métiers et des filiales ;\\nDévelopper et contribuer à rendre les modèles prédictifs et descriptifs de La Banque Postale plus pertinents ;\\nPiloter et/ou accompagner des Proof-Of-Concept ou Proof-Of-Value à fortes dimensions et évaluer la pertinence d'industrialiser ces POC au regard de leur performance ;\\nAccompagner l'entreprise dans le développement des usages Big Data et Machine Learning ;\\nApporter votre expertise data et expérience en gestion de projet aux data scientists juniors de l'équipe ;\\nEncadrer les stagiaires/alternants intervenant sur les projets de data science ;\\nParticiper activement à la veille Data de La Banque Postale pour détecter et suivre les innovations marquantes dans le domaine du digital et de la Data Science pour les dupliquer au sein de La Banque Postale ;\\nEtre ambassadeur de la culture Data au sein de l'entreprise pour favoriser l'acculturation des collaborateurs sur ces sujets ;\\nEtre pro-actif en matière de formation (suivi de MOOC, participation à des Kaggle), pour maintenir un haut niveau d'expertise sur les méthodologies statistiques de data science.\\n\\nPour occuper un poste de Data Scientist Sénior, vous :\\n\\nEtes titulaire d'un master ou d'un diplôme d'ingénieur en data science, statistiques, informatiques ou mathématiques\\nJustifiez d'au moins 4 années d'expérience professionnelle réussie dans l'univers de la modélisation en ayant mené des projets data science jusqu'à leur implémentation industrielle sur des environnements Big Data\\nEtes à l'aise sur les dernières avancées dans le domaine (Machine learning, Deep learning, NLP, Optimisation) et sur leur implémentation informatique (programmation python / hadoop / Spark) sur la plateforme Dataiku. La connaissance de SAS est un atout.\\nDisposez d'aptitudes sur les outils data visualisation (QlikSense, Dash)\\nAvez une expérience en gestion de projet, en production de livrables synthétiques à destination des métiers et du top management.\\nEnfin, ce poste nécessite d'être créatif, rigoureux, d'avoir une bonne capacité d'adaptation, d'analyse, de communication et de coopération.\""
      ]
     },
     "metadata": {},
     "execution_count": 31
    }
   ],
   "source": [
    "content"
   ]
  },
  {
   "cell_type": "code",
   "execution_count": 22,
   "metadata": {},
   "outputs": [
    {
     "output_type": "execute_result",
     "data": {
      "text/plain": [
       "[]"
      ]
     },
     "metadata": {},
     "execution_count": 22
    }
   ],
   "source": [
    "secteurs=browser.find_elements_by_class_name('jobs-box__list')\n",
    "secteurs"
   ]
  },
  {
   "cell_type": "code",
   "execution_count": 23,
   "metadata": {},
   "outputs": [],
   "source": [
    "\n",
    "more_button=browser.find_element_by_class_name(\"artdeco-card__action\")\n",
    "more_button.click()"
   ]
  },
  {
   "cell_type": "code",
   "execution_count": 24,
   "metadata": {},
   "outputs": [
    {
     "output_type": "execute_result",
     "data": {
      "text/plain": [
       "\"À propos de l’offre d’emploi\\nRejoindre La Banque Postale, c'est intégrer une banque citoyenne, dynamique et innovante, qui poursuit un développement accéléré sur les marchés de la banque de détail, de l'assurance et de la gestion d'actifs.\\n\\n\\nBanque de service public, La Banque Postale accompagne ses clients dans une relation bancaire durable : 10,7 millions de clients particuliers et 400 000 clients entreprises, professionnels, acteurs de l'économie sociale et du secteur public local lui font confiance.\\n\\n\\nAttentive à ses collaborateurs, elle leur propose des parcours diversifiés et investit dans leur formation tout au long de leur parcours professionnel.\\n\\nVos missions\\n\\nEn rejoignant le département Valorisation des données, en tant que Data Scientist Sénior, vous intégrer une équipe composée de 2 data Scientist/analysts séniors, 3 data scientists juniors, 1 doctorante et et aurez pour missions de :\\n\\nContribuer à l'exploitation et l'identification des gisements potentiels de données de La Banque Postale afin de proposer de nouveaux usages aux métiers ;\\nIdentifier les leviers de performances et de création de valeur dans une logique business au service des métiers et des filiales ;\\nDévelopper et contribuer à rendre les modèles prédictifs et descriptifs de La Banque Postale plus pertinents ;\\nPiloter et/ou accompagner des Proof-Of-Concept ou Proof-Of-Value à fortes dimensions et évaluer la pertinence d'industrialiser ces POC au regard de leur performance ;\\nAccompagner l'entreprise dans le développement des usages Big Data et Machine Learning ;\\nApporter votre expertise data et expérience en gestion de projet aux data scientists juniors de l'équipe ;\\nEncadrer les stagiaires/alternants intervenant sur les projets de data science ;\\nParticiper activement à la veille Data de La Banque Postale pour détecter et suivre les innovations marquantes dans le domaine du digital et de la Data Science pour les dupliquer au sein de La Banque Postale ;\\nEtre ambassadeur de la culture Data au sein de l'entreprise pour favoriser l'acculturation des collaborateurs sur ces sujets ;\\nEtre pro-actif en matière de formation (suivi de MOOC, participation à des Kaggle), pour maintenir un haut niveau d'expertise sur les méthodologies statistiques de data science.\\n\\nPour occuper un poste de Data Scientist Sénior, vous :\\n\\nEtes titulaire d'un master ou d'un diplôme d'ingénieur en data science, statistiques, informatiques ou mathématiques\\nJustifiez d'au moins 4 années d'expérience professionnelle réussie dans l'univers de la modélisation en ayant mené des projets data science jusqu'à leur implémentation industrielle sur des environnements Big Data\\nEtes à l'aise sur les dernières avancées dans le domaine (Machine learning, Deep learning, NLP, Optimisation) et sur leur implémentation informatique (programmation python / hadoop / Spark) sur la plateforme Dataiku. La connaissance de SAS est un atout.\\nDisposez d'aptitudes sur les outils data visualisation (QlikSense, Dash)\\nAvez une expérience en gestion de projet, en production de livrables synthétiques à destination des métiers et du top management.\\nEnfin, ce poste nécessite d'être créatif, rigoureux, d'avoir une bonne capacité d'adaptation, d'analyse, de communication et de coopération.\""
      ]
     },
     "metadata": {},
     "execution_count": 24
    }
   ],
   "source": [
    "content=browser.find_elements_by_class_name('jobs-box__html-content')[0].text\n",
    "content\n"
   ]
  },
  {
   "cell_type": "code",
   "execution_count": 25,
   "metadata": {},
   "outputs": [],
   "source": [
    "# Import summarize from gensim\n",
    "from gensim.summarization.summarizer import summarize\n",
    "from gensim.summarization import keywords# Import the library\n",
    "# to convert MSword doc to txt for processing.\n",
    "import docx2txt"
   ]
  },
  {
   "cell_type": "code",
   "execution_count": 26,
   "metadata": {},
   "outputs": [],
   "source": [
    "resume = docx2txt.process(\"CV_Brice_FOTZO.docx\")"
   ]
  },
  {
   "cell_type": "code",
   "execution_count": 27,
   "metadata": {},
   "outputs": [],
   "source": [
    "job_description = str(content)"
   ]
  },
  {
   "cell_type": "code",
   "execution_count": 28,
   "metadata": {},
   "outputs": [],
   "source": [
    "import spacy\n",
    "from spacy.lang.en.stop_words import STOP_WORDS\n",
    "from string import punctuation\n",
    "from collections import Counter\n",
    "from heapq import nlargest\n",
    "import en_core_web_sm\n",
    "import fr_core_news_sm\n",
    "# Import summarize from gensim\n",
    "from gensim.summarization.summarizer import summarize\n",
    "from gensim.summarization import keywords# Import the library\n",
    "# to convert MSword doc to txt for processing.\n",
    "import docx2txt\n"
   ]
  },
  {
   "cell_type": "code",
   "execution_count": 29,
   "metadata": {},
   "outputs": [],
   "source": [
    "nlp_job = fr_core_news_sm.load()\n",
    "nlp_resume=en_core_web_sm.load()\n",
    "doc=nlp_resume(str(resume))"
   ]
  },
  {
   "cell_type": "code",
   "execution_count": 38,
   "metadata": {},
   "outputs": [
    {
     "output_type": "execute_result",
     "data": {
      "text/plain": [
       "BRICE FOTZO\n",
       "\n",
       "\n",
       "\n",
       "\tDATA\tSCIENTIST\n",
       "\n",
       "\n",
       "\n",
       "https://www.linkedin.com/in/bricefotzo/\n",
       "\n",
       "\n",
       "\n",
       "https://github.com/bricefotzo\n",
       "\n",
       "\n",
       "\n",
       "brice.fotzo@hotmail.com\n",
       "\n",
       "\n",
       "\n",
       "+33 6 60 88 46 39\n",
       "\n",
       "\n",
       "\n",
       "https://cv-brice-fotzo.herokuapp.com/\n",
       "\n",
       "\n",
       "\n",
       "\n",
       "\n",
       "COMPÉTENCES TECHNIQUES\n",
       "\n",
       "\n",
       "\n",
       "\tPython, R, Scala, Pyspark, Java, OpenCV ·Bokeh, Dash, D3js\n",
       "\n",
       "\n",
       "\n",
       "·Talend, Spotfire, Power BI, Tableau ·SQL, PL/SQL, HiveQl, MongoDB ·GCP, Heroku, AWS ·Google AI, TensorFlow, Scikit Learn\n",
       "\n",
       "\n",
       "\n",
       "\tPHP, ReactJS, HTML, CSS ·Gitlab, GitHub\n",
       "\n",
       "\n",
       "\n",
       "DATA SCIENCE\n",
       "\n",
       "\n",
       "\n",
       "\tManipulation de données, Traitement d'images ·Analyse de données, Statistiques ·Machine Learning, Deep Learning\n",
       "\n",
       "·Visualisation de données\n",
       "\n",
       "\n",
       "\n",
       "\n",
       "\n",
       "\n",
       "FORMATION\n",
       "\n",
       "\n",
       "\n",
       "\n",
       "\n",
       "ESIGELEC - Diplôme d'ingénieur\n",
       "\n",
       "\n",
       "\n",
       "B i g D a t a p o u r l a t r a n s f o r m a t i o n N u m é r i q u e | S e p t e m b r e 2 0 1 6 - S e p t e m b r e 2 0 2 1\n",
       "\n",
       "\n",
       "\n",
       "1ère place Hackathon INNOJAM  2ème place projet Ingénieur\n",
       "\n",
       "\n",
       "\n",
       " Responsable communication du bureau des Etudiants Equipe de Tennis\n",
       "\n",
       "\n",
       "\n",
       "GOOGLE & COURSERA\n",
       "\n",
       "\n",
       "\n",
       "M a c h i n e L e a r n i n g w i t h T e n s o r F l o w o n G C P | J u i n 2 0 2 0 - E n c o u r s\n",
       "\n",
       "\n",
       "\n",
       "5 cours de spécialisation sur l'utilisation de GCP pour le Machine Learning\n",
       "\n",
       "EXPERIENCES\n",
       "\n",
       "\n",
       "\n",
       "APPRENTI DATA SCIENTIST\n",
       "\n",
       "\n",
       "\n",
       "G R O U P E R E N A U L T | O c t o b r e 2 0 1 8 - S e p t e m b r e 2 0 2 1\n",
       "\n",
       "\n",
       "\n",
       "Pour plusieurs usines du groupe, j'ai été en charge de:\n",
       "\n",
       "\n",
       "\n",
       "Amélioration de la prédiction des coûts d’énergie\n",
       "\n",
       "\n",
       "\n",
       "Optimisation des temps de production et d’assemblage\n",
       "\n",
       "\n",
       "\n",
       "Réduction de surconsommation d'installations de peinture\n",
       "\n",
       "\n",
       "\n",
       "Détection de fonctionnement anormaux de machines Fiabilisation de données\n",
       "\n",
       "CHEF DE PROJET (https://beelinked.eu)\n",
       "\n",
       "\n",
       "\n",
       "B E E L I N K E D & E S I G E L E C | O c t o b r e 2 0 2 0 - F e v r i e r 2 0 2 1\n",
       "\n",
       "\n",
       "\n",
       "Organisation et planification du projet (Teams, Trello)\n",
       "\n",
       "\n",
       "\n",
       "Mise en place d’un suivi personnalisé ( MS Forms + PowerBI ) Co-conception et co-développement site web, chatbot, API\n",
       "\n",
       "\n",
       "\n",
       "\n",
       "\n",
       "\n",
       "\n",
       "ATOUTS PERSONNELS\n",
       "\n",
       "\n",
       "\n",
       "\tAutonome ·Esprit d’équipe\n",
       "\n",
       "·Capacité d’adaptation\n",
       "\n",
       "\n",
       "\n",
       "· Curiosité\n",
       "\n",
       "\n",
       "\n",
       "REFERENCES\n",
       "\n",
       "\n",
       "\n",
       "Guillaume LILLIG\n",
       "\n",
       "\n",
       "\n",
       "Data Manager, GROUPE RENAULT\n",
       "\n",
       "\n",
       "\n",
       "Mathias OBREBSKI\n",
       "\n",
       "\n",
       "\n",
       "Data Scientist, GROUPE RENAULT\n",
       "\n",
       "\n",
       "\n",
       "LANGUES\n",
       "\n",
       "\n",
       "\n",
       " -C2   -B2  -B1\n",
       "\n",
       "\n",
       "\n",
       "\n",
       "P R O J E T S (Disponibles sur mon Git)\n",
       "\n",
       "\n",
       "\n",
       "CV & Job Matching (Mars 2021 - En cours)\n",
       "\n",
       "\n",
       "\n",
       "NLP, Scrapping, Machine Learning\n",
       "\n",
       "\n",
       "\n",
       "Evaluer la correspondance entre CV et offres d'emploi.\n",
       "\n",
       "\n",
       "\n",
       "\n",
       "\n",
       "Intervenant KIWANDA DATA (Janvier 2021 - En cours)\n",
       "\n",
       "\n",
       "\n",
       "Python, Jupyter Lab\n",
       "\n",
       "\n",
       "\n",
       "Cours d'initiation au python pour l'analyse des données.\n",
       "\n",
       "\n",
       "\n",
       "\n",
       "\n",
       "ISBN Reader (Mars 2020 – Avril 2020)\n",
       "\n",
       "\n",
       "\n",
       "Machine Learning, Image Processing\n",
       "\n",
       "\n",
       "\n",
       "Lire le numéro ISBN d'un livre grâce à une image de sa 4ème de couverture."
      ]
     },
     "metadata": {},
     "execution_count": 38
    }
   ],
   "source": [
    "doc=nlp_resume(str(resume))\n",
    "doc"
   ]
  },
  {
   "cell_type": "code",
   "execution_count": 149,
   "metadata": {},
   "outputs": [
    {
     "output_type": "execute_result",
     "data": {
      "text/plain": [
       "34"
      ]
     },
     "metadata": {},
     "execution_count": 149
    }
   ],
   "source": [
    "len(list(doc.sents))"
   ]
  },
  {
   "cell_type": "code",
   "execution_count": 41,
   "metadata": {},
   "outputs": [],
   "source": [
    "keyword = []\n",
    "stopwords = list(STOP_WORDS)\n",
    "pos_tag = ['PROPN', 'ADJ', 'NOUN', 'VERB']\n",
    "for token in doc:\n",
    "    if(token.text in stopwords or token.text in punctuation):\n",
    "        continue\n",
    "    if(token.pos_ in pos_tag):\n",
    "        keyword.append(token.text)"
   ]
  },
  {
   "cell_type": "code",
   "execution_count": 42,
   "metadata": {},
   "outputs": [
    {
     "output_type": "stream",
     "name": "stdout",
     "text": [
      "[('e', 17), ('r', 14), ('E', 10), ('t', 9), ('o', 9)]\n"
     ]
    }
   ],
   "source": [
    "\n",
    "freq_word = Counter(keyword)\n",
    "print(freq_word.most_common(5))"
   ]
  },
  {
   "cell_type": "code",
   "execution_count": 43,
   "metadata": {},
   "outputs": [
    {
     "output_type": "execute_result",
     "data": {
      "text/plain": [
       "[('e', 1.0),\n",
       " ('r', 0.8235294117647058),\n",
       " ('E', 0.5882352941176471),\n",
       " ('t', 0.5294117647058824),\n",
       " ('o', 0.5294117647058824),\n",
       " ('Learning', 0.29411764705882354),\n",
       " ('u', 0.29411764705882354),\n",
       " ('m', 0.29411764705882354),\n",
       " ('S', 0.29411764705882354),\n",
       " ('DATA', 0.23529411764705882)]"
      ]
     },
     "metadata": {},
     "execution_count": 43
    }
   ],
   "source": [
    "max_freq = Counter(keyword).most_common(1)[0][1]\n",
    "for word in freq_word.keys():  \n",
    "        freq_word[word] = (freq_word[word]/max_freq)\n",
    "freq_word.most_common(10)"
   ]
  },
  {
   "cell_type": "code",
   "execution_count": 44,
   "metadata": {},
   "outputs": [
    {
     "output_type": "stream",
     "name": "stdout",
     "text": [
      "{BRICE FOTZO\n\n\n\n\tDATA: 0.3529411764705882, \tSCIENTIST\n\n\n\nhttps://www.linkedin.com/in/bricefotzo/\n\n\n\nhttps://github.com/bricefotzo\n\n\n\nbrice.fotzo@hotmail.com\n\n\n\n+33 6 60 88 46 39\n\n\n\nhttps://cv-brice-fotzo.herokuapp.com/\n\n\n\n\n\nCOMPÉTENCES TECHNIQUES\n\n\n\n\tPython, R, Scala, Pyspark, Java, OpenCV ·Bokeh, Dash, D3js\n\n\n\n·Talend, Spotfire, Power BI, Tableau ·SQL, PL/SQL, HiveQl, MongoDB ·GCP, Heroku, AWS ·: 2.0588235294117645, Google AI, TensorFlow, Scikit Learn\n\n\n\n\tPHP, ReactJS, HTML, CSS ·Gitlab, GitHub\n\n\n\nDATA SCIENCE\n\n\n\n\tManipulation de données, Traitement d'images ·Analyse de données, Statistiques ·Machine Learning, Deep Learning\n\n·Visualisation de données\n\n\n\n\n\n\nFORMATION\n\n\n\n\n\nESIGELEC - Diplôme d'ingénieur\n\n\n\nB: 3.7647058823529393, i g D a t a p o u r l a t r a n s f o r m a t i o n N u m é r i q u e | S e p t e m b r e 2 0 1 6 - S e p t e m b r e 2 0 2 1\n\n\n\n1ère place: 19.882352941176475, Hackathon INNOJAM  2ème place projet Ingénieur\n\n\n\n Responsable communication du bureau des Etudiants Equipe de Tennis\n\n\n\nGOOGLE & COURSERA\n\n\n\nM: 1.2941176470588236, a c h i n e L e a r n i n g w i t h T e n s o r F l o w o n G C P | J u i n 2 0 2 0 - E n c o u r s\n\n\n\n5 cours de spécialisation sur l'utilisation de GCP pour le Machine Learning\n\nEXPERIENCES\n\n\n\nAPPRENTI DATA SCIENTIST: 13.529411764705873, \n\n\n\nG R O: 0.5294117647058824, U P E R E N A: 1.9411764705882355, U L T | O c t o b r e 2 0 1 8 - S e p t e m b r e 2 0 2 1\n\n\n\nPour plusieurs usines du groupe, j'ai été en charge de:\n\n\n\nAmélioration de la prédiction des coûts d’énergie\n\n\n\nOptimisation des temps de production et d’assemblage\n\n\n\nRéduction de surconsommation d'installations de peinture\n\n\n\nDétection de fonctionnement anormaux de machines Fiabilisation de données\n\nCHEF DE PROJET (https://beelinked.eu)\n\n\n\nB E E L I N K E D & E S: 16.058823529411747, I G E L E C | O c t o b r e 2 0 2 0 - F e v r i e r 2 0 2 1\n\n\n\nOrganisation et planification du projet (Teams, Trello): 9.352941176470585, \n\n\n\nMise en place d’un suivi personnalisé ( MS Forms + PowerBI ) Co-conception et co-développement site web, chatbot, API\n\n\n\n\n\n\n\nATOUTS PERSONNELS\n\n\n\n\tAutonome ·Esprit d’équipe\n\n·Capacité d’adaptation\n\n\n\n· Curiosité\n\n\n\nREFERENCES\n\n\n\nGuillaume LILLIG\n\n\n\nData Manager, GROUPE RENAULT\n\n\n\nMathias OBREBSKI\n\n\n\nData Scientist, GROUPE RENAULT\n\n\n\nLANGUES\n\n\n\n -C2   -B2  : 2.9411764705882346, -B1: 0.058823529411764705, P R O J E T S (Disponibles sur mon Git)\n\n\n\nCV & Job Matching (Mars 2021 - En cours)\n\n\n\nNLP, Scrapping, Machine Learning\n\n\n\nEvaluer la correspondance entre CV et offres d'emploi.: 3.882352941176469, \n\n\n\n\n\nIntervenant KIWANDA DATA (Janvier 2021 - En cours)\n\n\n\nPython, Jupyter Lab\n\n\n\nCours d'initiation au python pour l'analyse des données.: 1.5294117647058825, \n\n\n\n\n\nISBN Reader (Mars 2020 – Avril 2020): 0.3529411764705882, \n\n\n\nMachine Learning, Image: 0.5882352941176471, Processing\n\n\n\nLire le numéro ISBN d'un livre grâce à une image de sa 4ème de couverture.: 1.2352941176470589}\n"
     ]
    }
   ],
   "source": [
    "sent_strength={}\n",
    "for sent in doc.sents:\n",
    "    for word in sent:\n",
    "        if word.text in freq_word.keys():\n",
    "            if sent in sent_strength.keys():\n",
    "                sent_strength[sent]+=freq_word[word.text]\n",
    "            else:\n",
    "                sent_strength[sent]=freq_word[word.text]\n",
    "print(sent_strength)"
   ]
  },
  {
   "cell_type": "code",
   "execution_count": 45,
   "metadata": {},
   "outputs": [
    {
     "output_type": "stream",
     "name": "stdout",
     "text": [
      "[i g D a t a p o u r l a t r a n s f o r m a t i o n N u m é r i q u e | S e p t e m b r e 2 0 1 6 - S e p t e m b r e 2 0 2 1\n\n\n\n1ère place, U L T | O c t o b r e 2 0 1 8 - S e p t e m b r e 2 0 2 1\n\n\n\nPour plusieurs usines du groupe, j'ai été en charge de:\n\n\n\nAmélioration de la prédiction des coûts d’énergie\n\n\n\nOptimisation des temps de production et d’assemblage\n\n\n\nRéduction de surconsommation d'installations de peinture\n\n\n\nDétection de fonctionnement anormaux de machines Fiabilisation de données\n\nCHEF DE PROJET (https://beelinked.eu)\n\n\n\nB E E L I N K E D & E S, a c h i n e L e a r n i n g w i t h T e n s o r F l o w o n G C P | J u i n 2 0 2 0 - E n c o u r s\n\n\n\n5 cours de spécialisation sur l'utilisation de GCP pour le Machine Learning\n\nEXPERIENCES\n\n\n\nAPPRENTI DATA SCIENTIST]\n"
     ]
    }
   ],
   "source": [
    "summarized_sentences = nlargest(3, sent_strength, key=sent_strength.get)\n",
    "print(summarized_sentences)"
   ]
  },
  {
   "cell_type": "code",
   "execution_count": 46,
   "metadata": {},
   "outputs": [
    {
     "output_type": "stream",
     "name": "stdout",
     "text": [
      "i g D a t a p o u r l a t r a n s f o r m a t i o n N u m é r i q u e | S e p t e m b r e 2 0 1 6 - S e p t e m b r e 2 0 2 1\n\n\n\n1ère place U L T | O c t o b r e 2 0 1 8 - S e p t e m b r e 2 0 2 1\n\n\n\nPour plusieurs usines du groupe, j'ai été en charge de:\n\n\n\nAmélioration de la prédiction des coûts d’énergie\n\n\n\nOptimisation des temps de production et d’assemblage\n\n\n\nRéduction de surconsommation d'installations de peinture\n\n\n\nDétection de fonctionnement anormaux de machines Fiabilisation de données\n\nCHEF DE PROJET (https://beelinked.eu)\n\n\n\nB E E L I N K E D & E S a c h i n e L e a r n i n g w i t h T e n s o r F l o w o n G C P | J u i n 2 0 2 0 - E n c o u r s\n\n\n\n5 cours de spécialisation sur l'utilisation de GCP pour le Machine Learning\n\nEXPERIENCES\n\n\n\nAPPRENTI DATA SCIENTIST\n"
     ]
    }
   ],
   "source": [
    "\n",
    "final_sentences = [ w.text for w in summarized_sentences ]\n",
    "summary = ' '.join(final_sentences)\n",
    "print(summary)"
   ]
  },
  {
   "cell_type": "code",
   "execution_count": 47,
   "metadata": {},
   "outputs": [
    {
     "output_type": "execute_result",
     "data": {
      "text/plain": [
       "\"https://cv-brice-fotzo.herokuapp.com/\\n5 cours de spécialisation sur l'utilisation de GCP pour le Machine Learning\\nCours d'initiation au python pour l'analyse des données.\\nMachine Learning, Image Processing\""
      ]
     },
     "metadata": {},
     "execution_count": 47
    }
   ],
   "source": [
    "summarize(resume, ratio=0.1)"
   ]
  },
  {
   "cell_type": "code",
   "execution_count": 48,
   "metadata": {},
   "outputs": [],
   "source": [
    "text_list = [job_description, resume]\n",
    "from sklearn.feature_extraction.text import CountVectorizer\n",
    "cv = CountVectorizer()\n",
    "count_matrix = cv.fit_transform(text_list)"
   ]
  },
  {
   "cell_type": "code",
   "execution_count": 49,
   "metadata": {},
   "outputs": [
    {
     "output_type": "stream",
     "name": "stdout",
     "text": [
      "Your resume matches about 64.87% of the job description.\ndata\ndes\nlearn\nlearning\ndonnees\nhttps\nmachine\nmachines\nsur\nimage\nplace\ngoogle\nprojet\npython\nspotfire\nfotzo\nisbn\ngithub\nmars\ngcp\npour\nrenault\nmon\ncours\nbokeh\npyspark\nautonome\nsite\njava\nopencv\ngroupe\nsql\ncuriosite\npersonnels\nweb\nequipe\nesigelec\nchatbot\natouts\nscientist\nresponsable\ntrello\napi\nhiveql\nmatching\nreferences\nintervenant\noptimisation\nprocessing\naws\nplusieurs\nfonctionnement anormaux\nsuivi\npersonnalise\npowerbi\nforms\ndetection\npeinture\ncorrespondance entre\nreduction\nlivre\ngrace\netudiants\nscikit\nformation\nmongodb\nheroku\nguillaume\nteams\n"
     ]
    }
   ],
   "source": [
    "from sklearn.metrics.pairwise import cosine_similarity\n",
    "# get the match percentage\n",
    "matchPercentage = cosine_similarity(count_matrix)[0][1] * 100\n",
    "matchPercentage = round(matchPercentage, 2) # round to two decimal\n",
    "print(\"Your resume matches about \"+ str(matchPercentage)+ \"% of the job description.\")\n",
    "# output\n",
    "#Your resume matches about 33.33% of the job description.#keywords\n",
    "print(keywords(resume, ratio=0.5)) \n",
    "# gives you the keywords of the job description"
   ]
  },
  {
   "cell_type": "code",
   "execution_count": null,
   "metadata": {},
   "outputs": [],
   "source": []
  },
  {
   "cell_type": "code",
   "execution_count": null,
   "metadata": {},
   "outputs": [],
   "source": []
  }
 ]
}